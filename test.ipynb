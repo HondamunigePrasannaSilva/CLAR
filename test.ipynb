{
 "cells": [
  {
   "cell_type": "code",
   "execution_count": 1,
   "metadata": {},
   "outputs": [],
   "source": [
    "import numpy as np\n",
    "import librosa \n",
    "path = \"/home/prasanna/Documents/UNIFI/Deep Learning/CLAR/SpeechCommands/speech_commands_v0.02/dog/0a2b400e_nohash_0.wav\"\n",
    "signal, sr = librosa.load(path)"
   ]
  },
  {
   "cell_type": "code",
   "execution_count": null,
   "metadata": {},
   "outputs": [],
   "source": [
    "sr"
   ]
  },
  {
   "cell_type": "code",
   "execution_count": null,
   "metadata": {},
   "outputs": [],
   "source": [
    "import matplotlib.pyplot as plt\n",
    "\n",
    "def visualize_waveforms(waveform1, waveform2, sample_rate):\n",
    "    duration = len(waveform1) / sample_rate\n",
    "    time = np.linspace(0, duration, len(waveform1))\n",
    "\n",
    "    fig, (ax1, ax2) = plt.subplots(2, 1, sharex=True)\n",
    "\n",
    "    ax1.plot(time, waveform1)\n",
    "    ax1.set_ylabel('Waveform 1')\n",
    "\n",
    "    ax2.plot(time, waveform2)\n",
    "    ax2.set_xlabel('Time (s)')\n",
    "    ax2.set_ylabel('Waveform 2')\n",
    "\n",
    "    plt.show()"
   ]
  },
  {
   "cell_type": "code",
   "execution_count": 2,
   "metadata": {},
   "outputs": [],
   "source": [
    "import torch\n"
   ]
  },
  {
   "cell_type": "code",
   "execution_count": null,
   "metadata": {},
   "outputs": [],
   "source": [
    "def time_streching(signal, stretch_rate):\n",
    "    return librosa.effects.time_stretch(y=signal, rate=stretch_rate)"
   ]
  },
  {
   "cell_type": "code",
   "execution_count": null,
   "metadata": {},
   "outputs": [],
   "source": [
    "def add_white_noise_(signal, noise_level):\n",
    "    noise = torch.randn_like(signal)*torch.std(signal) * noise_level\n",
    "    noisy_signal = signal + noise\n",
    "    return noisy_signal"
   ]
  },
  {
   "cell_type": "code",
   "execution_count": null,
   "metadata": {},
   "outputs": [],
   "source": [
    "def pitch_scale(signal, sr, num_semitones):\n",
    "    return librosa.effects.pitch_shift(y=signal,sr=sr, n_steps=num_semitones)"
   ]
  },
  {
   "cell_type": "code",
   "execution_count": null,
   "metadata": {},
   "outputs": [],
   "source": [
    "augmented_noise = pitch_scale(signal, sr, 2)"
   ]
  },
  {
   "cell_type": "code",
   "execution_count": null,
   "metadata": {},
   "outputs": [],
   "source": [
    "visualize_waveforms(signal, augmented_noise, sr)\n",
    "#visualize_waveforms(augmented_noise, augmented_noise, sr)"
   ]
  },
  {
   "cell_type": "code",
   "execution_count": 3,
   "metadata": {},
   "outputs": [],
   "source": [
    "from data import *\n",
    "trainloader,testloader, valloader  = getData(batch_size=32)"
   ]
  },
  {
   "cell_type": "code",
   "execution_count": 4,
   "metadata": {},
   "outputs": [],
   "source": [
    "signal, l = next(iter(trainloader))\n"
   ]
  },
  {
   "cell_type": "code",
   "execution_count": 5,
   "metadata": {},
   "outputs": [
    {
     "name": "stderr",
     "output_type": "stream",
     "text": [
      "/home/prasanna/Documents/UNIFI/Deep Learning/CLAR/venv/lib/python3.10/site-packages/torchaudio/functional/functional.py:576: UserWarning: At least one mel filterbank has all zero values. The value for `n_mels` (128) may be set too high. Or, the value for `n_freqs` (257) may be set too low.\n",
      "  warnings.warn(\n"
     ]
    }
   ],
   "source": [
    "e = createSpectograms_(signal)"
   ]
  },
  {
   "cell_type": "code",
   "execution_count": 13,
   "metadata": {},
   "outputs": [
    {
     "name": "stderr",
     "output_type": "stream",
     "text": [
      "/home/prasanna/Documents/UNIFI/Deep Learning/CLAR/venv/lib/python3.10/site-packages/torchaudio/functional/functional.py:576: UserWarning: At least one mel filterbank has all zero values. The value for `n_mels` (128) may be set too high. Or, the value for `n_freqs` (257) may be set too low.\n",
      "  warnings.warn(\n"
     ]
    }
   ],
   "source": [
    "stft_transform = torchaudio.transforms.Spectrogram(n_fft=256, hop_length=128)\n",
    "stft = stft_transform(signal)\n",
    "# Maginitude\n",
    "maginitude = transforms.AmplitudeToDB()(stft)\n",
    "\n",
    "mel_transform = torchaudio.transforms.MelSpectrogram(sample_rate=16000, n_fft=512, hop_length=128, n_mels=128)\n",
    "mel_spec = mel_transform(signal)\n",
    "\n",
    "mel_spectogram = transforms.AmplitudeToDB()(mel_spec)\n",
    "\n",
    "phase = stft.angle()"
   ]
  },
  {
   "cell_type": "code",
   "execution_count": 16,
   "metadata": {},
   "outputs": [
    {
     "name": "stdout",
     "output_type": "stream",
     "text": [
      "torch.Size([32, 1, 128, 126])\n",
      "torch.Size([32, 1, 128, 126])\n",
      "torch.Size([32, 1, 128, 126])\n"
     ]
    }
   ],
   "source": [
    "print(maginitude[:,:,:-1,:].shape)\n",
    "print(mel_spectogram.shape)\n",
    "print(phase[:,:,:-1,:].shape)\n",
    "\n",
    "for i in range(signal.shape[0])"
   ]
  }
 ],
 "metadata": {
  "kernelspec": {
   "display_name": "venv",
   "language": "python",
   "name": "python3"
  },
  "language_info": {
   "codemirror_mode": {
    "name": "ipython",
    "version": 3
   },
   "file_extension": ".py",
   "mimetype": "text/x-python",
   "name": "python",
   "nbconvert_exporter": "python",
   "pygments_lexer": "ipython3",
   "version": "3.10.6"
  },
  "orig_nbformat": 4,
  "vscode": {
   "interpreter": {
    "hash": "de6e881c9795ea54ebc10ce65310b6ce74b497001d3a02ac9093b1b31ec41895"
   }
  }
 },
 "nbformat": 4,
 "nbformat_minor": 2
}
